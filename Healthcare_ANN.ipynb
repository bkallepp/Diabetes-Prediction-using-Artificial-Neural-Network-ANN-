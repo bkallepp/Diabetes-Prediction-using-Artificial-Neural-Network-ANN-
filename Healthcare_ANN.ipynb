{
 "cells": [
  {
   "cell_type": "code",
   "execution_count": 45,
   "id": "a9db18e9",
   "metadata": {},
   "outputs": [],
   "source": [
    "import pandas as pd\n",
    "import numpy as np\n",
    "import matplotlib\n",
    "import matplotlib.pyplot as plt\n",
    "import seaborn as sns\n",
    "from pandas.plotting import scatter_matrix\n",
    "%matplotlib inline\n",
    "from matplotlib.ticker import StrMethodFormatter"
   ]
  },
  {
   "cell_type": "code",
   "execution_count": 46,
   "id": "f203b894",
   "metadata": {},
   "outputs": [
    {
     "name": "stdout",
     "output_type": "stream",
     "text": [
      "Requirement already satisfied: Keras in c:\\users\\i035348\\anaconda3\\lib\\site-packages (2.7.0)\n",
      "Note: you may need to restart the kernel to use updated packages.\n"
     ]
    }
   ],
   "source": [
    "pip install Keras"
   ]
  },
  {
   "cell_type": "code",
   "execution_count": 47,
   "id": "5cc00834",
   "metadata": {},
   "outputs": [
    {
     "name": "stdout",
     "output_type": "stream",
     "text": [
      "Requirement already satisfied: scikit-learn in c:\\users\\i035348\\anaconda3\\lib\\site-packages (1.0.2)\n",
      "Requirement already satisfied: scipy>=1.1.0 in c:\\users\\i035348\\anaconda3\\lib\\site-packages (from scikit-learn) (1.6.2)\n",
      "Requirement already satisfied: threadpoolctl>=2.0.0 in c:\\users\\i035348\\anaconda3\\lib\\site-packages (from scikit-learn) (2.1.0)\n",
      "Requirement already satisfied: numpy>=1.14.6 in c:\\users\\i035348\\anaconda3\\lib\\site-packages (from scikit-learn) (1.20.1)\n",
      "Requirement already satisfied: joblib>=0.11 in c:\\users\\i035348\\anaconda3\\lib\\site-packages (from scikit-learn) (1.0.1)\n",
      "Note: you may need to restart the kernel to use updated packages.\n"
     ]
    }
   ],
   "source": [
    "pip install -U scikit-learn"
   ]
  },
  {
   "cell_type": "code",
   "execution_count": 48,
   "id": "959895fd",
   "metadata": {},
   "outputs": [
    {
     "data": {
      "text/html": [
       "<div>\n",
       "<style scoped>\n",
       "    .dataframe tbody tr th:only-of-type {\n",
       "        vertical-align: middle;\n",
       "    }\n",
       "\n",
       "    .dataframe tbody tr th {\n",
       "        vertical-align: top;\n",
       "    }\n",
       "\n",
       "    .dataframe thead th {\n",
       "        text-align: right;\n",
       "    }\n",
       "</style>\n",
       "<table border=\"1\" class=\"dataframe\">\n",
       "  <thead>\n",
       "    <tr style=\"text-align: right;\">\n",
       "      <th></th>\n",
       "      <th>Pregnancies</th>\n",
       "      <th>Glucose</th>\n",
       "      <th>BloodPressure</th>\n",
       "      <th>SkinThickness</th>\n",
       "      <th>Insulin</th>\n",
       "      <th>BMI</th>\n",
       "      <th>DiabetesPedigreeFunction</th>\n",
       "      <th>Age</th>\n",
       "      <th>Outcome</th>\n",
       "    </tr>\n",
       "  </thead>\n",
       "  <tbody>\n",
       "    <tr>\n",
       "      <th>0</th>\n",
       "      <td>6</td>\n",
       "      <td>148</td>\n",
       "      <td>72</td>\n",
       "      <td>35</td>\n",
       "      <td>0</td>\n",
       "      <td>33.6</td>\n",
       "      <td>0.627</td>\n",
       "      <td>50</td>\n",
       "      <td>1</td>\n",
       "    </tr>\n",
       "    <tr>\n",
       "      <th>1</th>\n",
       "      <td>1</td>\n",
       "      <td>85</td>\n",
       "      <td>66</td>\n",
       "      <td>29</td>\n",
       "      <td>0</td>\n",
       "      <td>26.6</td>\n",
       "      <td>0.351</td>\n",
       "      <td>31</td>\n",
       "      <td>0</td>\n",
       "    </tr>\n",
       "    <tr>\n",
       "      <th>2</th>\n",
       "      <td>8</td>\n",
       "      <td>183</td>\n",
       "      <td>64</td>\n",
       "      <td>0</td>\n",
       "      <td>0</td>\n",
       "      <td>23.3</td>\n",
       "      <td>0.672</td>\n",
       "      <td>32</td>\n",
       "      <td>1</td>\n",
       "    </tr>\n",
       "    <tr>\n",
       "      <th>3</th>\n",
       "      <td>1</td>\n",
       "      <td>89</td>\n",
       "      <td>66</td>\n",
       "      <td>23</td>\n",
       "      <td>94</td>\n",
       "      <td>28.1</td>\n",
       "      <td>0.167</td>\n",
       "      <td>21</td>\n",
       "      <td>0</td>\n",
       "    </tr>\n",
       "    <tr>\n",
       "      <th>4</th>\n",
       "      <td>0</td>\n",
       "      <td>137</td>\n",
       "      <td>40</td>\n",
       "      <td>35</td>\n",
       "      <td>168</td>\n",
       "      <td>43.1</td>\n",
       "      <td>2.288</td>\n",
       "      <td>33</td>\n",
       "      <td>1</td>\n",
       "    </tr>\n",
       "    <tr>\n",
       "      <th>...</th>\n",
       "      <td>...</td>\n",
       "      <td>...</td>\n",
       "      <td>...</td>\n",
       "      <td>...</td>\n",
       "      <td>...</td>\n",
       "      <td>...</td>\n",
       "      <td>...</td>\n",
       "      <td>...</td>\n",
       "      <td>...</td>\n",
       "    </tr>\n",
       "    <tr>\n",
       "      <th>763</th>\n",
       "      <td>10</td>\n",
       "      <td>101</td>\n",
       "      <td>76</td>\n",
       "      <td>48</td>\n",
       "      <td>180</td>\n",
       "      <td>32.9</td>\n",
       "      <td>0.171</td>\n",
       "      <td>63</td>\n",
       "      <td>0</td>\n",
       "    </tr>\n",
       "    <tr>\n",
       "      <th>764</th>\n",
       "      <td>2</td>\n",
       "      <td>122</td>\n",
       "      <td>70</td>\n",
       "      <td>27</td>\n",
       "      <td>0</td>\n",
       "      <td>36.8</td>\n",
       "      <td>0.340</td>\n",
       "      <td>27</td>\n",
       "      <td>0</td>\n",
       "    </tr>\n",
       "    <tr>\n",
       "      <th>765</th>\n",
       "      <td>5</td>\n",
       "      <td>121</td>\n",
       "      <td>72</td>\n",
       "      <td>23</td>\n",
       "      <td>112</td>\n",
       "      <td>26.2</td>\n",
       "      <td>0.245</td>\n",
       "      <td>30</td>\n",
       "      <td>0</td>\n",
       "    </tr>\n",
       "    <tr>\n",
       "      <th>766</th>\n",
       "      <td>1</td>\n",
       "      <td>126</td>\n",
       "      <td>60</td>\n",
       "      <td>0</td>\n",
       "      <td>0</td>\n",
       "      <td>30.1</td>\n",
       "      <td>0.349</td>\n",
       "      <td>47</td>\n",
       "      <td>1</td>\n",
       "    </tr>\n",
       "    <tr>\n",
       "      <th>767</th>\n",
       "      <td>1</td>\n",
       "      <td>93</td>\n",
       "      <td>70</td>\n",
       "      <td>31</td>\n",
       "      <td>0</td>\n",
       "      <td>30.4</td>\n",
       "      <td>0.315</td>\n",
       "      <td>23</td>\n",
       "      <td>0</td>\n",
       "    </tr>\n",
       "  </tbody>\n",
       "</table>\n",
       "<p>768 rows × 9 columns</p>\n",
       "</div>"
      ],
      "text/plain": [
       "     Pregnancies  Glucose  BloodPressure  SkinThickness  Insulin   BMI  \\\n",
       "0              6      148             72             35        0  33.6   \n",
       "1              1       85             66             29        0  26.6   \n",
       "2              8      183             64              0        0  23.3   \n",
       "3              1       89             66             23       94  28.1   \n",
       "4              0      137             40             35      168  43.1   \n",
       "..           ...      ...            ...            ...      ...   ...   \n",
       "763           10      101             76             48      180  32.9   \n",
       "764            2      122             70             27        0  36.8   \n",
       "765            5      121             72             23      112  26.2   \n",
       "766            1      126             60              0        0  30.1   \n",
       "767            1       93             70             31        0  30.4   \n",
       "\n",
       "     DiabetesPedigreeFunction  Age  Outcome  \n",
       "0                       0.627   50        1  \n",
       "1                       0.351   31        0  \n",
       "2                       0.672   32        1  \n",
       "3                       0.167   21        0  \n",
       "4                       2.288   33        1  \n",
       "..                        ...  ...      ...  \n",
       "763                     0.171   63        0  \n",
       "764                     0.340   27        0  \n",
       "765                     0.245   30        0  \n",
       "766                     0.349   47        1  \n",
       "767                     0.315   23        0  \n",
       "\n",
       "[768 rows x 9 columns]"
      ]
     },
     "execution_count": 48,
     "metadata": {},
     "output_type": "execute_result"
    }
   ],
   "source": [
    "df = pd.read_csv(\"health care diabetes.csv\")\n",
    "df"
   ]
  },
  {
   "cell_type": "code",
   "execution_count": 49,
   "id": "acdc81cd",
   "metadata": {},
   "outputs": [],
   "source": [
    "X = df.iloc[:, 0:8].values\n",
    "y = df.iloc[:, 8].values"
   ]
  },
  {
   "cell_type": "code",
   "execution_count": 50,
   "id": "dbd4d3a3",
   "metadata": {},
   "outputs": [
    {
     "data": {
      "text/plain": [
       "array([[  6.   , 148.   ,  72.   , ...,  33.6  ,   0.627,  50.   ],\n",
       "       [  1.   ,  85.   ,  66.   , ...,  26.6  ,   0.351,  31.   ],\n",
       "       [  8.   , 183.   ,  64.   , ...,  23.3  ,   0.672,  32.   ],\n",
       "       ...,\n",
       "       [  5.   , 121.   ,  72.   , ...,  26.2  ,   0.245,  30.   ],\n",
       "       [  1.   , 126.   ,  60.   , ...,  30.1  ,   0.349,  47.   ],\n",
       "       [  1.   ,  93.   ,  70.   , ...,  30.4  ,   0.315,  23.   ]])"
      ]
     },
     "execution_count": 50,
     "metadata": {},
     "output_type": "execute_result"
    }
   ],
   "source": [
    "X"
   ]
  },
  {
   "cell_type": "code",
   "execution_count": 51,
   "id": "232aeef0",
   "metadata": {},
   "outputs": [
    {
     "data": {
      "text/plain": [
       "array([1, 0, 1, 0, 1, 0, 1, 0, 1, 1, 0, 1, 0, 1, 1, 1, 1, 1, 0, 1, 0, 0,\n",
       "       1, 1, 1, 1, 1, 0, 0, 0, 0, 1, 0, 0, 0, 0, 0, 1, 1, 1, 0, 0, 0, 1,\n",
       "       0, 1, 0, 0, 1, 0, 0, 0, 0, 1, 0, 0, 1, 0, 0, 0, 0, 1, 0, 0, 1, 0,\n",
       "       1, 0, 0, 0, 1, 0, 1, 0, 0, 0, 0, 0, 1, 0, 0, 0, 0, 0, 1, 0, 0, 0,\n",
       "       1, 0, 0, 0, 0, 1, 0, 0, 0, 0, 0, 1, 1, 0, 0, 0, 0, 0, 0, 0, 0, 1,\n",
       "       1, 1, 0, 0, 1, 1, 1, 0, 0, 0, 1, 0, 0, 0, 1, 1, 0, 0, 1, 1, 1, 1,\n",
       "       1, 0, 0, 0, 0, 0, 0, 0, 0, 0, 0, 1, 0, 0, 0, 0, 0, 0, 0, 0, 1, 0,\n",
       "       1, 1, 0, 0, 0, 1, 0, 0, 0, 0, 1, 1, 0, 0, 0, 0, 1, 1, 0, 0, 0, 1,\n",
       "       0, 1, 0, 1, 0, 0, 0, 0, 0, 1, 1, 1, 1, 1, 0, 0, 1, 1, 0, 1, 0, 1,\n",
       "       1, 1, 0, 0, 0, 0, 0, 0, 1, 1, 0, 1, 0, 0, 0, 1, 1, 1, 1, 0, 1, 1,\n",
       "       1, 1, 0, 0, 0, 0, 0, 1, 0, 0, 1, 1, 0, 0, 0, 1, 1, 1, 1, 0, 0, 0,\n",
       "       1, 1, 0, 1, 0, 0, 0, 0, 0, 0, 0, 0, 1, 1, 0, 0, 0, 1, 0, 1, 0, 0,\n",
       "       1, 0, 1, 0, 0, 1, 1, 0, 0, 0, 0, 0, 1, 0, 0, 0, 1, 0, 0, 1, 1, 0,\n",
       "       0, 1, 0, 0, 0, 1, 1, 1, 0, 0, 1, 0, 1, 0, 1, 1, 0, 1, 0, 0, 1, 0,\n",
       "       1, 1, 0, 0, 1, 0, 1, 0, 0, 1, 0, 1, 0, 1, 1, 1, 0, 0, 1, 0, 1, 0,\n",
       "       0, 0, 1, 0, 0, 0, 0, 1, 1, 1, 0, 0, 0, 0, 0, 0, 0, 0, 0, 1, 0, 0,\n",
       "       0, 0, 0, 1, 1, 1, 0, 1, 1, 0, 0, 1, 0, 0, 1, 0, 0, 1, 1, 0, 0, 0,\n",
       "       0, 1, 0, 0, 1, 0, 0, 0, 0, 0, 0, 0, 1, 1, 1, 0, 0, 1, 0, 0, 1, 0,\n",
       "       0, 1, 0, 1, 1, 0, 1, 0, 1, 0, 1, 0, 1, 1, 0, 0, 0, 0, 1, 1, 0, 1,\n",
       "       0, 1, 0, 0, 0, 0, 1, 1, 0, 1, 0, 1, 0, 0, 0, 0, 0, 1, 0, 0, 0, 0,\n",
       "       1, 0, 0, 1, 1, 1, 0, 0, 1, 0, 0, 1, 0, 0, 0, 1, 0, 0, 1, 0, 0, 0,\n",
       "       0, 0, 0, 0, 0, 0, 1, 0, 0, 0, 0, 0, 0, 0, 1, 0, 0, 0, 1, 0, 0, 0,\n",
       "       1, 1, 0, 0, 0, 0, 0, 0, 0, 1, 0, 0, 0, 0, 1, 0, 0, 0, 1, 0, 0, 0,\n",
       "       1, 0, 0, 0, 1, 0, 0, 0, 0, 1, 1, 0, 0, 0, 0, 0, 0, 1, 0, 0, 0, 0,\n",
       "       0, 0, 0, 0, 0, 0, 0, 1, 0, 0, 0, 1, 1, 1, 1, 0, 0, 1, 1, 0, 0, 0,\n",
       "       0, 0, 0, 0, 0, 0, 0, 0, 0, 0, 1, 1, 0, 0, 0, 0, 0, 0, 0, 1, 0, 0,\n",
       "       0, 0, 0, 0, 0, 1, 0, 1, 1, 0, 0, 0, 1, 0, 1, 0, 1, 0, 1, 0, 1, 0,\n",
       "       0, 1, 0, 0, 1, 0, 0, 0, 0, 1, 1, 0, 1, 0, 0, 0, 0, 1, 1, 0, 1, 0,\n",
       "       0, 0, 1, 1, 0, 0, 0, 0, 0, 0, 0, 0, 0, 0, 1, 0, 0, 0, 0, 1, 0, 0,\n",
       "       1, 0, 0, 0, 1, 0, 0, 0, 1, 1, 1, 0, 0, 0, 0, 0, 0, 1, 0, 0, 0, 1,\n",
       "       0, 1, 1, 1, 1, 0, 1, 1, 0, 0, 0, 0, 0, 0, 0, 1, 1, 0, 1, 0, 0, 1,\n",
       "       0, 1, 0, 0, 0, 0, 0, 1, 0, 1, 0, 1, 0, 1, 1, 0, 0, 0, 0, 1, 1, 0,\n",
       "       0, 0, 1, 0, 1, 1, 0, 0, 1, 0, 0, 1, 1, 0, 0, 1, 0, 0, 1, 0, 0, 0,\n",
       "       0, 0, 0, 0, 1, 1, 1, 0, 0, 0, 0, 0, 0, 1, 1, 0, 0, 1, 0, 0, 1, 0,\n",
       "       1, 1, 1, 0, 0, 1, 1, 1, 0, 1, 0, 1, 0, 1, 0, 0, 0, 0, 1, 0],\n",
       "      dtype=int64)"
      ]
     },
     "execution_count": 51,
     "metadata": {},
     "output_type": "execute_result"
    }
   ],
   "source": [
    "y"
   ]
  },
  {
   "cell_type": "code",
   "execution_count": 52,
   "id": "16c0b4dd",
   "metadata": {},
   "outputs": [],
   "source": [
    "from sklearn.model_selection import train_test_split\n",
    "X_train, X_test, y_train, y_test = train_test_split(X, y, test_size = 0.3, random_state = 0)"
   ]
  },
  {
   "cell_type": "code",
   "execution_count": 53,
   "id": "6f78efd8",
   "metadata": {},
   "outputs": [
    {
     "data": {
      "text/plain": [
       "(231, 8)"
      ]
     },
     "execution_count": 53,
     "metadata": {},
     "output_type": "execute_result"
    }
   ],
   "source": [
    "X_test.shape"
   ]
  },
  {
   "cell_type": "code",
   "execution_count": 54,
   "id": "837ca034",
   "metadata": {},
   "outputs": [
    {
     "data": {
      "text/plain": [
       "(537,)"
      ]
     },
     "execution_count": 54,
     "metadata": {},
     "output_type": "execute_result"
    }
   ],
   "source": [
    "y_train.shape"
   ]
  },
  {
   "cell_type": "code",
   "execution_count": 55,
   "id": "aa77e35b",
   "metadata": {},
   "outputs": [
    {
     "data": {
      "text/plain": [
       "(231,)"
      ]
     },
     "execution_count": 55,
     "metadata": {},
     "output_type": "execute_result"
    }
   ],
   "source": [
    "y_test.shape"
   ]
  },
  {
   "cell_type": "code",
   "execution_count": 56,
   "id": "e8f63255",
   "metadata": {},
   "outputs": [],
   "source": [
    "# feature scaling\n",
    "from sklearn.preprocessing import StandardScaler\n",
    "sc = StandardScaler()\n",
    "X_train = sc.fit_transform(X_train)\n",
    "X_test = sc.transform(X_test)"
   ]
  },
  {
   "cell_type": "code",
   "execution_count": 57,
   "id": "88e76f79",
   "metadata": {},
   "outputs": [
    {
     "name": "stdout",
     "output_type": "stream",
     "text": [
      "Collecting package metadata (current_repodata.json): ...working... done\n",
      "Solving environment: ...working... done\n",
      "\n",
      "# All requested packages already installed.\n",
      "\n",
      "Note: you may need to restart the kernel to use updated packages.\n",
      "\n"
     ]
    }
   ],
   "source": [
    "conda install tensorflow"
   ]
  },
  {
   "cell_type": "code",
   "execution_count": 58,
   "id": "05750e44",
   "metadata": {},
   "outputs": [],
   "source": [
    "import tensorflow as tf"
   ]
  },
  {
   "cell_type": "code",
   "execution_count": 59,
   "id": "393575d4",
   "metadata": {},
   "outputs": [
    {
     "name": "stdout",
     "output_type": "stream",
     "text": [
      "Requirement already satisfied: tensorflow in c:\\users\\i035348\\anaconda3\\lib\\site-packages (2.7.0)\n",
      "Requirement already satisfied: numpy>=1.14.5 in c:\\users\\i035348\\anaconda3\\lib\\site-packages (from tensorflow) (1.20.1)\n",
      "Requirement already satisfied: gast<0.5.0,>=0.2.1 in c:\\users\\i035348\\anaconda3\\lib\\site-packages (from tensorflow) (0.4.0)\n",
      "Requirement already satisfied: absl-py>=0.4.0 in c:\\users\\i035348\\anaconda3\\lib\\site-packages (from tensorflow) (0.15.0)\n",
      "Requirement already satisfied: google-pasta>=0.1.1 in c:\\users\\i035348\\anaconda3\\lib\\site-packages (from tensorflow) (0.2.0)\n",
      "Requirement already satisfied: termcolor>=1.1.0 in c:\\users\\i035348\\anaconda3\\lib\\site-packages (from tensorflow) (1.1.0)\n",
      "Requirement already satisfied: protobuf>=3.9.2 in c:\\users\\i035348\\anaconda3\\lib\\site-packages (from tensorflow) (3.19.1)\n",
      "Requirement already satisfied: six>=1.12.0 in c:\\users\\i035348\\anaconda3\\lib\\site-packages (from tensorflow) (1.15.0)\n",
      "Requirement already satisfied: flatbuffers<3.0,>=1.12 in c:\\users\\i035348\\anaconda3\\lib\\site-packages (from tensorflow) (2.0)\n",
      "Requirement already satisfied: grpcio<2.0,>=1.24.3 in c:\\users\\i035348\\anaconda3\\lib\\site-packages (from tensorflow) (1.42.0)\n",
      "Requirement already satisfied: keras-preprocessing>=1.1.1 in c:\\users\\i035348\\anaconda3\\lib\\site-packages (from tensorflow) (1.1.2)\n",
      "Requirement already satisfied: tensorboard~=2.6 in c:\\users\\i035348\\anaconda3\\lib\\site-packages (from tensorflow) (2.7.0)\n",
      "Requirement already satisfied: keras<2.8,>=2.7.0rc0 in c:\\users\\i035348\\anaconda3\\lib\\site-packages (from tensorflow) (2.7.0)\n",
      "Requirement already satisfied: tensorflow-io-gcs-filesystem>=0.21.0 in c:\\users\\i035348\\anaconda3\\lib\\site-packages (from tensorflow) (0.23.1)\n",
      "Requirement already satisfied: libclang>=9.0.1 in c:\\users\\i035348\\anaconda3\\lib\\site-packages (from tensorflow) (12.0.0)\n",
      "Requirement already satisfied: astunparse>=1.6.0 in c:\\users\\i035348\\anaconda3\\lib\\site-packages (from tensorflow) (1.6.3)\n",
      "Requirement already satisfied: wrapt>=1.11.0 in c:\\users\\i035348\\anaconda3\\lib\\site-packages (from tensorflow) (1.12.1)\n",
      "Requirement already satisfied: h5py>=2.9.0 in c:\\users\\i035348\\anaconda3\\lib\\site-packages (from tensorflow) (2.10.0)\n",
      "Requirement already satisfied: typing-extensions>=3.6.6 in c:\\users\\i035348\\anaconda3\\lib\\site-packages (from tensorflow) (3.7.4.3)\n",
      "Requirement already satisfied: tensorflow-estimator<2.8,~=2.7.0rc0 in c:\\users\\i035348\\anaconda3\\lib\\site-packages (from tensorflow) (2.7.0)\n",
      "Requirement already satisfied: wheel<1.0,>=0.32.0 in c:\\users\\i035348\\anaconda3\\lib\\site-packages (from tensorflow) (0.36.2)\n",
      "Requirement already satisfied: opt-einsum>=2.3.2 in c:\\users\\i035348\\anaconda3\\lib\\site-packages (from tensorflow) (3.3.0)\n",
      "Requirement already satisfied: google-auth-oauthlib<0.5,>=0.4.1 in c:\\users\\i035348\\anaconda3\\lib\\site-packages (from tensorboard~=2.6->tensorflow) (0.4.4)\n",
      "Requirement already satisfied: werkzeug>=0.11.15 in c:\\users\\i035348\\anaconda3\\lib\\site-packages (from tensorboard~=2.6->tensorflow) (1.0.1)\n",
      "Requirement already satisfied: markdown>=2.6.8 in c:\\users\\i035348\\anaconda3\\lib\\site-packages (from tensorboard~=2.6->tensorflow) (3.3.4)\n",
      "Requirement already satisfied: google-auth<3,>=1.6.3 in c:\\users\\i035348\\anaconda3\\lib\\site-packages (from tensorboard~=2.6->tensorflow) (1.21.3)\n",
      "Requirement already satisfied: tensorboard-plugin-wit>=1.6.0 in c:\\users\\i035348\\anaconda3\\lib\\site-packages (from tensorboard~=2.6->tensorflow) (1.6.0)\n",
      "Requirement already satisfied: setuptools>=41.0.0 in c:\\users\\i035348\\anaconda3\\lib\\site-packages (from tensorboard~=2.6->tensorflow) (52.0.0.post20210125)\n",
      "Requirement already satisfied: tensorboard-data-server<0.7.0,>=0.6.0 in c:\\users\\i035348\\anaconda3\\lib\\site-packages (from tensorboard~=2.6->tensorflow) (0.6.1)\n",
      "Requirement already satisfied: requests<3,>=2.21.0 in c:\\users\\i035348\\anaconda3\\lib\\site-packages (from tensorboard~=2.6->tensorflow) (2.25.1)\n",
      "Requirement already satisfied: pyasn1-modules>=0.2.1 in c:\\users\\i035348\\anaconda3\\lib\\site-packages (from google-auth<3,>=1.6.3->tensorboard~=2.6->tensorflow) (0.2.8)\n",
      "Requirement already satisfied: cachetools<5.0,>=2.0.0 in c:\\users\\i035348\\anaconda3\\lib\\site-packages (from google-auth<3,>=1.6.3->tensorboard~=2.6->tensorflow) (4.2.2)\n",
      "Requirement already satisfied: rsa<5,>=3.1.4 in c:\\users\\i035348\\anaconda3\\lib\\site-packages (from google-auth<3,>=1.6.3->tensorboard~=2.6->tensorflow) (4.7.2)\n",
      "Requirement already satisfied: requests-oauthlib>=0.7.0 in c:\\users\\i035348\\anaconda3\\lib\\site-packages (from google-auth-oauthlib<0.5,>=0.4.1->tensorboard~=2.6->tensorflow) (1.3.0)\n",
      "Requirement already satisfied: pyasn1<0.5.0,>=0.4.6 in c:\\users\\i035348\\anaconda3\\lib\\site-packages (from pyasn1-modules>=0.2.1->google-auth<3,>=1.6.3->tensorboard~=2.6->tensorflow) (0.4.8)\n",
      "Requirement already satisfied: idna<3,>=2.5 in c:\\users\\i035348\\anaconda3\\lib\\site-packages (from requests<3,>=2.21.0->tensorboard~=2.6->tensorflow) (2.10)\n",
      "Requirement already satisfied: urllib3<1.27,>=1.21.1 in c:\\users\\i035348\\anaconda3\\lib\\site-packages (from requests<3,>=2.21.0->tensorboard~=2.6->tensorflow) (1.26.4)\n",
      "Requirement already satisfied: chardet<5,>=3.0.2 in c:\\users\\i035348\\anaconda3\\lib\\site-packages (from requests<3,>=2.21.0->tensorboard~=2.6->tensorflow) (4.0.0)\n",
      "Requirement already satisfied: certifi>=2017.4.17 in c:\\users\\i035348\\anaconda3\\lib\\site-packages (from requests<3,>=2.21.0->tensorboard~=2.6->tensorflow) (2021.10.8)\n",
      "Requirement already satisfied: oauthlib>=3.0.0 in c:\\users\\i035348\\anaconda3\\lib\\site-packages (from requests-oauthlib>=0.7.0->google-auth-oauthlib<0.5,>=0.4.1->tensorboard~=2.6->tensorflow) (3.1.1)\n",
      "Note: you may need to restart the kernel to use updated packages.\n"
     ]
    }
   ],
   "source": [
    "pip install --upgrade tensorflow\n"
   ]
  },
  {
   "cell_type": "code",
   "execution_count": 60,
   "id": "863de454",
   "metadata": {},
   "outputs": [
    {
     "name": "stdout",
     "output_type": "stream",
     "text": [
      "Requirement already satisfied: tensorflow-gpu in c:\\users\\i035348\\anaconda3\\lib\\site-packages (2.7.0)\n",
      "Requirement already satisfied: grpcio<2.0,>=1.24.3 in c:\\users\\i035348\\anaconda3\\lib\\site-packages (from tensorflow-gpu) (1.42.0)\n",
      "Requirement already satisfied: termcolor>=1.1.0 in c:\\users\\i035348\\anaconda3\\lib\\site-packages (from tensorflow-gpu) (1.1.0)\n",
      "Requirement already satisfied: tensorflow-io-gcs-filesystem>=0.21.0 in c:\\users\\i035348\\anaconda3\\lib\\site-packages (from tensorflow-gpu) (0.23.1)\n",
      "Requirement already satisfied: keras<2.8,>=2.7.0rc0 in c:\\users\\i035348\\anaconda3\\lib\\site-packages (from tensorflow-gpu) (2.7.0)\n",
      "Requirement already satisfied: numpy>=1.14.5 in c:\\users\\i035348\\anaconda3\\lib\\site-packages (from tensorflow-gpu) (1.20.1)\n",
      "Requirement already satisfied: h5py>=2.9.0 in c:\\users\\i035348\\anaconda3\\lib\\site-packages (from tensorflow-gpu) (2.10.0)\n",
      "Requirement already satisfied: flatbuffers<3.0,>=1.12 in c:\\users\\i035348\\anaconda3\\lib\\site-packages (from tensorflow-gpu) (2.0)\n",
      "Requirement already satisfied: six>=1.12.0 in c:\\users\\i035348\\anaconda3\\lib\\site-packages (from tensorflow-gpu) (1.15.0)\n",
      "Requirement already satisfied: tensorboard~=2.6 in c:\\users\\i035348\\anaconda3\\lib\\site-packages (from tensorflow-gpu) (2.7.0)\n",
      "Requirement already satisfied: google-pasta>=0.1.1 in c:\\users\\i035348\\anaconda3\\lib\\site-packages (from tensorflow-gpu) (0.2.0)\n",
      "Requirement already satisfied: opt-einsum>=2.3.2 in c:\\users\\i035348\\anaconda3\\lib\\site-packages (from tensorflow-gpu) (3.3.0)\n",
      "Requirement already satisfied: keras-preprocessing>=1.1.1 in c:\\users\\i035348\\anaconda3\\lib\\site-packages (from tensorflow-gpu) (1.1.2)\n",
      "Requirement already satisfied: libclang>=9.0.1 in c:\\users\\i035348\\anaconda3\\lib\\site-packages (from tensorflow-gpu) (12.0.0)\n",
      "Requirement already satisfied: astunparse>=1.6.0 in c:\\users\\i035348\\anaconda3\\lib\\site-packages (from tensorflow-gpu) (1.6.3)\n",
      "Requirement already satisfied: typing-extensions>=3.6.6 in c:\\users\\i035348\\anaconda3\\lib\\site-packages (from tensorflow-gpu) (3.7.4.3)\n",
      "Requirement already satisfied: protobuf>=3.9.2 in c:\\users\\i035348\\anaconda3\\lib\\site-packages (from tensorflow-gpu) (3.19.1)\n",
      "Requirement already satisfied: wheel<1.0,>=0.32.0 in c:\\users\\i035348\\anaconda3\\lib\\site-packages (from tensorflow-gpu) (0.36.2)\n",
      "Requirement already satisfied: wrapt>=1.11.0 in c:\\users\\i035348\\anaconda3\\lib\\site-packages (from tensorflow-gpu) (1.12.1)\n",
      "Requirement already satisfied: absl-py>=0.4.0 in c:\\users\\i035348\\anaconda3\\lib\\site-packages (from tensorflow-gpu) (0.15.0)\n",
      "Requirement already satisfied: tensorflow-estimator<2.8,~=2.7.0rc0 in c:\\users\\i035348\\anaconda3\\lib\\site-packages (from tensorflow-gpu) (2.7.0)\n",
      "Requirement already satisfied: gast<0.5.0,>=0.2.1 in c:\\users\\i035348\\anaconda3\\lib\\site-packages (from tensorflow-gpu) (0.4.0)\n",
      "Requirement already satisfied: google-auth<3,>=1.6.3 in c:\\users\\i035348\\anaconda3\\lib\\site-packages (from tensorboard~=2.6->tensorflow-gpu) (1.21.3)\n",
      "Requirement already satisfied: tensorboard-plugin-wit>=1.6.0 in c:\\users\\i035348\\anaconda3\\lib\\site-packages (from tensorboard~=2.6->tensorflow-gpu) (1.6.0)\n",
      "Requirement already satisfied: requests<3,>=2.21.0 in c:\\users\\i035348\\anaconda3\\lib\\site-packages (from tensorboard~=2.6->tensorflow-gpu) (2.25.1)\n",
      "Requirement already satisfied: google-auth-oauthlib<0.5,>=0.4.1 in c:\\users\\i035348\\anaconda3\\lib\\site-packages (from tensorboard~=2.6->tensorflow-gpu) (0.4.4)\n",
      "Requirement already satisfied: werkzeug>=0.11.15 in c:\\users\\i035348\\anaconda3\\lib\\site-packages (from tensorboard~=2.6->tensorflow-gpu) (1.0.1)\n",
      "Requirement already satisfied: tensorboard-data-server<0.7.0,>=0.6.0 in c:\\users\\i035348\\anaconda3\\lib\\site-packages (from tensorboard~=2.6->tensorflow-gpu) (0.6.1)\n",
      "Requirement already satisfied: markdown>=2.6.8 in c:\\users\\i035348\\anaconda3\\lib\\site-packages (from tensorboard~=2.6->tensorflow-gpu) (3.3.4)\n",
      "Requirement already satisfied: setuptools>=41.0.0 in c:\\users\\i035348\\anaconda3\\lib\\site-packages (from tensorboard~=2.6->tensorflow-gpu) (52.0.0.post20210125)\n",
      "Requirement already satisfied: pyasn1-modules>=0.2.1 in c:\\users\\i035348\\anaconda3\\lib\\site-packages (from google-auth<3,>=1.6.3->tensorboard~=2.6->tensorflow-gpu) (0.2.8)\n",
      "Requirement already satisfied: cachetools<5.0,>=2.0.0 in c:\\users\\i035348\\anaconda3\\lib\\site-packages (from google-auth<3,>=1.6.3->tensorboard~=2.6->tensorflow-gpu) (4.2.2)\n",
      "Requirement already satisfied: rsa<5,>=3.1.4 in c:\\users\\i035348\\anaconda3\\lib\\site-packages (from google-auth<3,>=1.6.3->tensorboard~=2.6->tensorflow-gpu) (4.7.2)\n",
      "Requirement already satisfied: requests-oauthlib>=0.7.0 in c:\\users\\i035348\\anaconda3\\lib\\site-packages (from google-auth-oauthlib<0.5,>=0.4.1->tensorboard~=2.6->tensorflow-gpu) (1.3.0)\n",
      "Requirement already satisfied: pyasn1<0.5.0,>=0.4.6 in c:\\users\\i035348\\anaconda3\\lib\\site-packages (from pyasn1-modules>=0.2.1->google-auth<3,>=1.6.3->tensorboard~=2.6->tensorflow-gpu) (0.4.8)\n",
      "Requirement already satisfied: idna<3,>=2.5 in c:\\users\\i035348\\anaconda3\\lib\\site-packages (from requests<3,>=2.21.0->tensorboard~=2.6->tensorflow-gpu) (2.10)\n",
      "Requirement already satisfied: chardet<5,>=3.0.2 in c:\\users\\i035348\\anaconda3\\lib\\site-packages (from requests<3,>=2.21.0->tensorboard~=2.6->tensorflow-gpu) (4.0.0)\n",
      "Requirement already satisfied: urllib3<1.27,>=1.21.1 in c:\\users\\i035348\\anaconda3\\lib\\site-packages (from requests<3,>=2.21.0->tensorboard~=2.6->tensorflow-gpu) (1.26.4)\n",
      "Requirement already satisfied: certifi>=2017.4.17 in c:\\users\\i035348\\anaconda3\\lib\\site-packages (from requests<3,>=2.21.0->tensorboard~=2.6->tensorflow-gpu) (2021.10.8)\n",
      "Requirement already satisfied: oauthlib>=3.0.0 in c:\\users\\i035348\\anaconda3\\lib\\site-packages (from requests-oauthlib>=0.7.0->google-auth-oauthlib<0.5,>=0.4.1->tensorboard~=2.6->tensorflow-gpu) (3.1.1)\n",
      "Note: you may need to restart the kernel to use updated packages.\n"
     ]
    }
   ],
   "source": [
    "pip install --upgrade tensorflow-gpu"
   ]
  },
  {
   "cell_type": "code",
   "execution_count": 61,
   "id": "df6c9868",
   "metadata": {},
   "outputs": [],
   "source": [
    "#Importing Keras & classes\n",
    "from tensorflow import keras"
   ]
  },
  {
   "cell_type": "code",
   "execution_count": 62,
   "id": "4d516401",
   "metadata": {},
   "outputs": [],
   "source": [
    "from tensorflow.keras import datasets, layers, models, optimizers\n",
    "from tensorflow.keras.preprocessing import image\n"
   ]
  },
  {
   "cell_type": "code",
   "execution_count": 63,
   "id": "7bf60e33",
   "metadata": {},
   "outputs": [],
   "source": [
    "from tensorflow.keras.preprocessing.image import ImageDataGenerator"
   ]
  },
  {
   "cell_type": "code",
   "execution_count": 64,
   "id": "8ed749e8",
   "metadata": {},
   "outputs": [],
   "source": [
    "from tensorflow.keras.preprocessing import image_dataset_from_directory\n"
   ]
  },
  {
   "cell_type": "code",
   "execution_count": 65,
   "id": "eb0ca041",
   "metadata": {},
   "outputs": [],
   "source": [
    "from tensorflow.keras.preprocessing.image import img_to_array, load_img\n",
    "from tensorflow.keras import layers, models, optimizers\n",
    "import tensorflow.keras.backend as K"
   ]
  },
  {
   "cell_type": "code",
   "execution_count": 66,
   "id": "7d826dcb",
   "metadata": {},
   "outputs": [],
   "source": [
    "from tensorflow.keras.callbacks import Callback, ModelCheckpoint, ReduceLROnPlateau, EarlyStopping"
   ]
  },
  {
   "cell_type": "code",
   "execution_count": 67,
   "id": "3781de45",
   "metadata": {},
   "outputs": [],
   "source": [
    "from tensorflow.keras.models import Sequential\n",
    "from tensorflow.keras.layers import Activation, Dense"
   ]
  },
  {
   "cell_type": "code",
   "execution_count": 68,
   "id": "bdae3f51",
   "metadata": {},
   "outputs": [],
   "source": [
    "#Initializing the Artificial Neural Network\n",
    "classifier = tf.keras.Sequential()"
   ]
  },
  {
   "cell_type": "code",
   "execution_count": 69,
   "id": "9660db38",
   "metadata": {},
   "outputs": [],
   "source": [
    "#Adding the input layer and a hidden layer\n",
    "classifier.add(Dense(5, input_dim=8, activation='relu'))"
   ]
  },
  {
   "cell_type": "code",
   "execution_count": 70,
   "id": "56c0de46",
   "metadata": {},
   "outputs": [],
   "source": [
    "#Adding the second hidden layer\n",
    "classifier.add(Dense(5, activation='relu'))"
   ]
  },
  {
   "cell_type": "code",
   "execution_count": 71,
   "id": "e106c882",
   "metadata": {},
   "outputs": [],
   "source": [
    " #Adding output layer\n",
    "classifier.add(Dense(1, activation='sigmoid'))"
   ]
  },
  {
   "cell_type": "code",
   "execution_count": 72,
   "id": "701e6ba9",
   "metadata": {},
   "outputs": [],
   "source": [
    "#Compiling the artificial neural network\n",
    "classifier.compile(loss='binary_crossentropy', optimizer='adam', metrics=['accuracy'])"
   ]
  },
  {
   "cell_type": "code",
   "execution_count": 73,
   "id": "08ecd11e",
   "metadata": {},
   "outputs": [
    {
     "name": "stdout",
     "output_type": "stream",
     "text": [
      "Epoch 1/150\n",
      "54/54 [==============================] - 1s 1ms/step - loss: 0.7640 - accuracy: 0.4339\n",
      "Epoch 2/150\n",
      "54/54 [==============================] - 0s 1ms/step - loss: 0.7197 - accuracy: 0.5531\n",
      "Epoch 3/150\n",
      "54/54 [==============================] - 0s 2ms/step - loss: 0.6948 - accuracy: 0.6201\n",
      "Epoch 4/150\n",
      "54/54 [==============================] - 0s 1ms/step - loss: 0.6756 - accuracy: 0.6257\n",
      "Epoch 5/150\n",
      "54/54 [==============================] - 0s 2ms/step - loss: 0.6564 - accuracy: 0.6443\n",
      "Epoch 6/150\n",
      "54/54 [==============================] - 0s 2ms/step - loss: 0.6375 - accuracy: 0.6629\n",
      "Epoch 7/150\n",
      "54/54 [==============================] - 0s 2ms/step - loss: 0.6184 - accuracy: 0.6797\n",
      "Epoch 8/150\n",
      "54/54 [==============================] - 0s 2ms/step - loss: 0.5983 - accuracy: 0.6927\n",
      "Epoch 9/150\n",
      "54/54 [==============================] - 0s 1ms/step - loss: 0.5794 - accuracy: 0.7076\n",
      "Epoch 10/150\n",
      "54/54 [==============================] - 0s 2ms/step - loss: 0.5616 - accuracy: 0.7151\n",
      "Epoch 11/150\n",
      "54/54 [==============================] - 0s 2ms/step - loss: 0.5458 - accuracy: 0.7188\n",
      "Epoch 12/150\n",
      "54/54 [==============================] - 0s 1ms/step - loss: 0.5308 - accuracy: 0.7244\n",
      "Epoch 13/150\n",
      "54/54 [==============================] - 0s 1ms/step - loss: 0.5182 - accuracy: 0.7300\n",
      "Epoch 14/150\n",
      "54/54 [==============================] - 0s 1ms/step - loss: 0.5077 - accuracy: 0.7430\n",
      "Epoch 15/150\n",
      "54/54 [==============================] - 0s 1ms/step - loss: 0.4998 - accuracy: 0.7486\n",
      "Epoch 16/150\n",
      "54/54 [==============================] - 0s 1ms/step - loss: 0.4934 - accuracy: 0.7467\n",
      "Epoch 17/150\n",
      "54/54 [==============================] - 0s 1ms/step - loss: 0.4890 - accuracy: 0.7449\n",
      "Epoch 18/150\n",
      "54/54 [==============================] - 0s 1ms/step - loss: 0.4839 - accuracy: 0.7412\n",
      "Epoch 19/150\n",
      "54/54 [==============================] - 0s 1ms/step - loss: 0.4811 - accuracy: 0.7449\n",
      "Epoch 20/150\n",
      "54/54 [==============================] - 0s 1ms/step - loss: 0.4786 - accuracy: 0.7486\n",
      "Epoch 21/150\n",
      "54/54 [==============================] - 0s 1ms/step - loss: 0.4771 - accuracy: 0.7561\n",
      "Epoch 22/150\n",
      "54/54 [==============================] - 0s 1ms/step - loss: 0.4751 - accuracy: 0.7505\n",
      "Epoch 23/150\n",
      "54/54 [==============================] - 0s 1ms/step - loss: 0.4736 - accuracy: 0.7505\n",
      "Epoch 24/150\n",
      "54/54 [==============================] - 0s 1ms/step - loss: 0.4727 - accuracy: 0.7505\n",
      "Epoch 25/150\n",
      "54/54 [==============================] - 0s 1ms/step - loss: 0.4716 - accuracy: 0.7542\n",
      "Epoch 26/150\n",
      "54/54 [==============================] - 0s 1ms/step - loss: 0.4709 - accuracy: 0.7542\n",
      "Epoch 27/150\n",
      "54/54 [==============================] - 0s 1ms/step - loss: 0.4698 - accuracy: 0.7598\n",
      "Epoch 28/150\n",
      "54/54 [==============================] - 0s 1ms/step - loss: 0.4688 - accuracy: 0.7561\n",
      "Epoch 29/150\n",
      "54/54 [==============================] - 0s 1ms/step - loss: 0.4675 - accuracy: 0.7598\n",
      "Epoch 30/150\n",
      "54/54 [==============================] - 0s 1ms/step - loss: 0.4672 - accuracy: 0.7542\n",
      "Epoch 31/150\n",
      "54/54 [==============================] - 0s 2ms/step - loss: 0.4666 - accuracy: 0.7542\n",
      "Epoch 32/150\n",
      "54/54 [==============================] - 0s 1ms/step - loss: 0.4656 - accuracy: 0.7579\n",
      "Epoch 33/150\n",
      "54/54 [==============================] - 0s 2ms/step - loss: 0.4653 - accuracy: 0.7561\n",
      "Epoch 34/150\n",
      "54/54 [==============================] - 0s 2ms/step - loss: 0.4647 - accuracy: 0.7616\n",
      "Epoch 35/150\n",
      "54/54 [==============================] - 0s 2ms/step - loss: 0.4640 - accuracy: 0.7561\n",
      "Epoch 36/150\n",
      "54/54 [==============================] - 0s 1ms/step - loss: 0.4633 - accuracy: 0.7598\n",
      "Epoch 37/150\n",
      "54/54 [==============================] - 0s 1ms/step - loss: 0.4625 - accuracy: 0.7616\n",
      "Epoch 38/150\n",
      "54/54 [==============================] - 0s 1ms/step - loss: 0.4623 - accuracy: 0.7598\n",
      "Epoch 39/150\n",
      "54/54 [==============================] - 0s 1ms/step - loss: 0.4619 - accuracy: 0.7616\n",
      "Epoch 40/150\n",
      "54/54 [==============================] - 0s 1ms/step - loss: 0.4612 - accuracy: 0.7616\n",
      "Epoch 41/150\n",
      "54/54 [==============================] - 0s 1ms/step - loss: 0.4604 - accuracy: 0.7635\n",
      "Epoch 42/150\n",
      "54/54 [==============================] - 0s 1ms/step - loss: 0.4603 - accuracy: 0.7654\n",
      "Epoch 43/150\n",
      "54/54 [==============================] - 0s 1ms/step - loss: 0.4599 - accuracy: 0.7616\n",
      "Epoch 44/150\n",
      "54/54 [==============================] - 0s 1ms/step - loss: 0.4595 - accuracy: 0.7672\n",
      "Epoch 45/150\n",
      "54/54 [==============================] - 0s 1ms/step - loss: 0.4590 - accuracy: 0.7654\n",
      "Epoch 46/150\n",
      "54/54 [==============================] - 0s 1ms/step - loss: 0.4587 - accuracy: 0.7635\n",
      "Epoch 47/150\n",
      "54/54 [==============================] - 0s 1ms/step - loss: 0.4583 - accuracy: 0.7672\n",
      "Epoch 48/150\n",
      "54/54 [==============================] - 0s 1ms/step - loss: 0.4585 - accuracy: 0.7672\n",
      "Epoch 49/150\n",
      "54/54 [==============================] - 0s 1ms/step - loss: 0.4578 - accuracy: 0.7691\n",
      "Epoch 50/150\n",
      "54/54 [==============================] - 0s 1ms/step - loss: 0.4581 - accuracy: 0.7635\n",
      "Epoch 51/150\n",
      "54/54 [==============================] - 0s 1ms/step - loss: 0.4574 - accuracy: 0.7672\n",
      "Epoch 52/150\n",
      "54/54 [==============================] - 0s 1ms/step - loss: 0.4573 - accuracy: 0.7654\n",
      "Epoch 53/150\n",
      "54/54 [==============================] - 0s 1ms/step - loss: 0.4566 - accuracy: 0.7691\n",
      "Epoch 54/150\n",
      "54/54 [==============================] - 0s 1ms/step - loss: 0.4565 - accuracy: 0.7691\n",
      "Epoch 55/150\n",
      "54/54 [==============================] - 0s 1ms/step - loss: 0.4563 - accuracy: 0.7635\n",
      "Epoch 56/150\n",
      "54/54 [==============================] - 0s 1ms/step - loss: 0.4564 - accuracy: 0.7672\n",
      "Epoch 57/150\n",
      "54/54 [==============================] - 0s 1ms/step - loss: 0.4561 - accuracy: 0.7691\n",
      "Epoch 58/150\n",
      "54/54 [==============================] - 0s 1ms/step - loss: 0.4553 - accuracy: 0.7654\n",
      "Epoch 59/150\n",
      "54/54 [==============================] - 0s 1ms/step - loss: 0.4555 - accuracy: 0.7672\n",
      "Epoch 60/150\n",
      "54/54 [==============================] - 0s 1ms/step - loss: 0.4559 - accuracy: 0.7616\n",
      "Epoch 61/150\n",
      "54/54 [==============================] - 0s 1ms/step - loss: 0.4548 - accuracy: 0.7691\n",
      "Epoch 62/150\n",
      "54/54 [==============================] - 0s 1ms/step - loss: 0.4551 - accuracy: 0.7654\n",
      "Epoch 63/150\n",
      "54/54 [==============================] - 0s 1ms/step - loss: 0.4551 - accuracy: 0.7654\n",
      "Epoch 64/150\n",
      "54/54 [==============================] - 0s 1ms/step - loss: 0.4549 - accuracy: 0.7654\n",
      "Epoch 65/150\n",
      "54/54 [==============================] - 0s 1ms/step - loss: 0.4547 - accuracy: 0.7654\n",
      "Epoch 66/150\n",
      "54/54 [==============================] - 0s 1ms/step - loss: 0.4546 - accuracy: 0.7654\n",
      "Epoch 67/150\n",
      "54/54 [==============================] - 0s 1ms/step - loss: 0.4548 - accuracy: 0.7654\n",
      "Epoch 68/150\n",
      "54/54 [==============================] - 0s 1ms/step - loss: 0.4544 - accuracy: 0.7654\n",
      "Epoch 69/150\n",
      "54/54 [==============================] - 0s 1ms/step - loss: 0.4543 - accuracy: 0.7672\n",
      "Epoch 70/150\n",
      "54/54 [==============================] - 0s 1ms/step - loss: 0.4549 - accuracy: 0.7691\n",
      "Epoch 71/150\n",
      "54/54 [==============================] - 0s 1ms/step - loss: 0.4536 - accuracy: 0.7709\n",
      "Epoch 72/150\n",
      "54/54 [==============================] - 0s 1ms/step - loss: 0.4538 - accuracy: 0.7709\n",
      "Epoch 73/150\n",
      "54/54 [==============================] - 0s 1ms/step - loss: 0.4541 - accuracy: 0.7654\n",
      "Epoch 74/150\n",
      "54/54 [==============================] - 0s 1ms/step - loss: 0.4531 - accuracy: 0.7672\n",
      "Epoch 75/150\n",
      "54/54 [==============================] - 0s 1ms/step - loss: 0.4535 - accuracy: 0.7672\n",
      "Epoch 76/150\n",
      "54/54 [==============================] - 0s 1ms/step - loss: 0.4530 - accuracy: 0.7691\n",
      "Epoch 77/150\n",
      "54/54 [==============================] - 0s 1ms/step - loss: 0.4537 - accuracy: 0.7691\n",
      "Epoch 78/150\n",
      "54/54 [==============================] - 0s 1ms/step - loss: 0.4529 - accuracy: 0.7728\n",
      "Epoch 79/150\n",
      "54/54 [==============================] - 0s 1ms/step - loss: 0.4524 - accuracy: 0.7728\n",
      "Epoch 80/150\n",
      "54/54 [==============================] - 0s 1ms/step - loss: 0.4524 - accuracy: 0.7728\n",
      "Epoch 81/150\n",
      "54/54 [==============================] - 0s 1ms/step - loss: 0.4534 - accuracy: 0.7691\n",
      "Epoch 82/150\n",
      "54/54 [==============================] - 0s 1ms/step - loss: 0.4522 - accuracy: 0.7728\n",
      "Epoch 83/150\n"
     ]
    },
    {
     "name": "stdout",
     "output_type": "stream",
     "text": [
      "54/54 [==============================] - 0s 1ms/step - loss: 0.4518 - accuracy: 0.7672\n",
      "Epoch 84/150\n",
      "54/54 [==============================] - 0s 1ms/step - loss: 0.4517 - accuracy: 0.7691\n",
      "Epoch 85/150\n",
      "54/54 [==============================] - 0s 1ms/step - loss: 0.4514 - accuracy: 0.7691\n",
      "Epoch 86/150\n",
      "54/54 [==============================] - 0s 2ms/step - loss: 0.4510 - accuracy: 0.7672\n",
      "Epoch 87/150\n",
      "54/54 [==============================] - 0s 2ms/step - loss: 0.4507 - accuracy: 0.7691\n",
      "Epoch 88/150\n",
      "54/54 [==============================] - 0s 1ms/step - loss: 0.4506 - accuracy: 0.7821\n",
      "Epoch 89/150\n",
      "54/54 [==============================] - 0s 1ms/step - loss: 0.4497 - accuracy: 0.7728\n",
      "Epoch 90/150\n",
      "54/54 [==============================] - 0s 1ms/step - loss: 0.4492 - accuracy: 0.7728\n",
      "Epoch 91/150\n",
      "54/54 [==============================] - 0s 1ms/step - loss: 0.4485 - accuracy: 0.7747\n",
      "Epoch 92/150\n",
      "54/54 [==============================] - 0s 1ms/step - loss: 0.4480 - accuracy: 0.7728\n",
      "Epoch 93/150\n",
      "54/54 [==============================] - 0s 1ms/step - loss: 0.4489 - accuracy: 0.7765\n",
      "Epoch 94/150\n",
      "54/54 [==============================] - 0s 1ms/step - loss: 0.4482 - accuracy: 0.7784\n",
      "Epoch 95/150\n",
      "54/54 [==============================] - 0s 2ms/step - loss: 0.4474 - accuracy: 0.7765\n",
      "Epoch 96/150\n",
      "54/54 [==============================] - 0s 2ms/step - loss: 0.4473 - accuracy: 0.7747\n",
      "Epoch 97/150\n",
      "54/54 [==============================] - 0s 2ms/step - loss: 0.4467 - accuracy: 0.7784\n",
      "Epoch 98/150\n",
      "54/54 [==============================] - 0s 2ms/step - loss: 0.4471 - accuracy: 0.7784\n",
      "Epoch 99/150\n",
      "54/54 [==============================] - 0s 1ms/step - loss: 0.4461 - accuracy: 0.7821\n",
      "Epoch 100/150\n",
      "54/54 [==============================] - 0s 1ms/step - loss: 0.4465 - accuracy: 0.7858\n",
      "Epoch 101/150\n",
      "54/54 [==============================] - 0s 2ms/step - loss: 0.4458 - accuracy: 0.7803\n",
      "Epoch 102/150\n",
      "54/54 [==============================] - 0s 1ms/step - loss: 0.4455 - accuracy: 0.7877\n",
      "Epoch 103/150\n",
      "54/54 [==============================] - 0s 1ms/step - loss: 0.4450 - accuracy: 0.7858\n",
      "Epoch 104/150\n",
      "54/54 [==============================] - 0s 1ms/step - loss: 0.4453 - accuracy: 0.7858\n",
      "Epoch 105/150\n",
      "54/54 [==============================] - 0s 1ms/step - loss: 0.4444 - accuracy: 0.7877\n",
      "Epoch 106/150\n",
      "54/54 [==============================] - 0s 1ms/step - loss: 0.4440 - accuracy: 0.7858\n",
      "Epoch 107/150\n",
      "54/54 [==============================] - 0s 1ms/step - loss: 0.4439 - accuracy: 0.7858\n",
      "Epoch 108/150\n",
      "54/54 [==============================] - 0s 1ms/step - loss: 0.4435 - accuracy: 0.7896\n",
      "Epoch 109/150\n",
      "54/54 [==============================] - 0s 1ms/step - loss: 0.4440 - accuracy: 0.7877\n",
      "Epoch 110/150\n",
      "54/54 [==============================] - 0s 1ms/step - loss: 0.4429 - accuracy: 0.7896\n",
      "Epoch 111/150\n",
      "54/54 [==============================] - 0s 1ms/step - loss: 0.4425 - accuracy: 0.7896\n",
      "Epoch 112/150\n",
      "54/54 [==============================] - 0s 1ms/step - loss: 0.4428 - accuracy: 0.7914\n",
      "Epoch 113/150\n",
      "54/54 [==============================] - 0s 1ms/step - loss: 0.4422 - accuracy: 0.7877\n",
      "Epoch 114/150\n",
      "54/54 [==============================] - 0s 1ms/step - loss: 0.4419 - accuracy: 0.7933\n",
      "Epoch 115/150\n",
      "54/54 [==============================] - 0s 2ms/step - loss: 0.4415 - accuracy: 0.7952\n",
      "Epoch 116/150\n",
      "54/54 [==============================] - 0s 1ms/step - loss: 0.4418 - accuracy: 0.7896\n",
      "Epoch 117/150\n",
      "54/54 [==============================] - 0s 2ms/step - loss: 0.4411 - accuracy: 0.7933\n",
      "Epoch 118/150\n",
      "54/54 [==============================] - 0s 2ms/step - loss: 0.4412 - accuracy: 0.7896\n",
      "Epoch 119/150\n",
      "54/54 [==============================] - 0s 2ms/step - loss: 0.4407 - accuracy: 0.7896\n",
      "Epoch 120/150\n",
      "54/54 [==============================] - 0s 2ms/step - loss: 0.4412 - accuracy: 0.7952\n",
      "Epoch 121/150\n",
      "54/54 [==============================] - 0s 2ms/step - loss: 0.4403 - accuracy: 0.7914\n",
      "Epoch 122/150\n",
      "54/54 [==============================] - 0s 2ms/step - loss: 0.4398 - accuracy: 0.7933\n",
      "Epoch 123/150\n",
      "54/54 [==============================] - 0s 2ms/step - loss: 0.4401 - accuracy: 0.7933\n",
      "Epoch 124/150\n",
      "54/54 [==============================] - 0s 2ms/step - loss: 0.4398 - accuracy: 0.7933\n",
      "Epoch 125/150\n",
      "54/54 [==============================] - 0s 2ms/step - loss: 0.4396 - accuracy: 0.7933\n",
      "Epoch 126/150\n",
      "54/54 [==============================] - 0s 2ms/step - loss: 0.4393 - accuracy: 0.7896\n",
      "Epoch 127/150\n",
      "54/54 [==============================] - 0s 2ms/step - loss: 0.4398 - accuracy: 0.7933\n",
      "Epoch 128/150\n",
      "54/54 [==============================] - 0s 2ms/step - loss: 0.4390 - accuracy: 0.7877\n",
      "Epoch 129/150\n",
      "54/54 [==============================] - 0s 2ms/step - loss: 0.4386 - accuracy: 0.7896\n",
      "Epoch 130/150\n",
      "54/54 [==============================] - 0s 2ms/step - loss: 0.4381 - accuracy: 0.7896\n",
      "Epoch 131/150\n",
      "54/54 [==============================] - 0s 2ms/step - loss: 0.4382 - accuracy: 0.7896\n",
      "Epoch 132/150\n",
      "54/54 [==============================] - 0s 2ms/step - loss: 0.4383 - accuracy: 0.7896\n",
      "Epoch 133/150\n",
      "54/54 [==============================] - 0s 2ms/step - loss: 0.4374 - accuracy: 0.7840\n",
      "Epoch 134/150\n",
      "54/54 [==============================] - 0s 2ms/step - loss: 0.4378 - accuracy: 0.7877\n",
      "Epoch 135/150\n",
      "54/54 [==============================] - 0s 2ms/step - loss: 0.4378 - accuracy: 0.7896\n",
      "Epoch 136/150\n",
      "54/54 [==============================] - 0s 2ms/step - loss: 0.4375 - accuracy: 0.7877\n",
      "Epoch 137/150\n",
      "54/54 [==============================] - 0s 1ms/step - loss: 0.4380 - accuracy: 0.7877\n",
      "Epoch 138/150\n",
      "54/54 [==============================] - 0s 2ms/step - loss: 0.4367 - accuracy: 0.7877\n",
      "Epoch 139/150\n",
      "54/54 [==============================] - 0s 2ms/step - loss: 0.4376 - accuracy: 0.7877\n",
      "Epoch 140/150\n",
      "54/54 [==============================] - 0s 1ms/step - loss: 0.4366 - accuracy: 0.7877\n",
      "Epoch 141/150\n",
      "54/54 [==============================] - 0s 2ms/step - loss: 0.4362 - accuracy: 0.7914\n",
      "Epoch 142/150\n",
      "54/54 [==============================] - 0s 1ms/step - loss: 0.4358 - accuracy: 0.7858\n",
      "Epoch 143/150\n",
      "54/54 [==============================] - 0s 2ms/step - loss: 0.4359 - accuracy: 0.7896\n",
      "Epoch 144/150\n",
      "54/54 [==============================] - 0s 2ms/step - loss: 0.4359 - accuracy: 0.7877\n",
      "Epoch 145/150\n",
      "54/54 [==============================] - 0s 2ms/step - loss: 0.4354 - accuracy: 0.7858\n",
      "Epoch 146/150\n",
      "54/54 [==============================] - 0s 1ms/step - loss: 0.4351 - accuracy: 0.7896\n",
      "Epoch 147/150\n",
      "54/54 [==============================] - 0s 1ms/step - loss: 0.4356 - accuracy: 0.7914\n",
      "Epoch 148/150\n",
      "54/54 [==============================] - 0s 2ms/step - loss: 0.4345 - accuracy: 0.7896\n",
      "Epoch 149/150\n",
      "54/54 [==============================] - 0s 1ms/step - loss: 0.4343 - accuracy: 0.7914\n",
      "Epoch 150/150\n",
      "54/54 [==============================] - 0s 1ms/step - loss: 0.4347 - accuracy: 0.7896\n"
     ]
    },
    {
     "data": {
      "text/plain": [
       "<keras.callbacks.History at 0x23f4b83fd60>"
      ]
     },
     "execution_count": 73,
     "metadata": {},
     "output_type": "execute_result"
    }
   ],
   "source": [
    "# Fitting the ANN model to the training set\n",
    "classifier.fit(X_train, y_train, batch_size = 10, epochs = 150)"
   ]
  },
  {
   "cell_type": "code",
   "execution_count": 74,
   "id": "bffaaa71",
   "metadata": {},
   "outputs": [
    {
     "data": {
      "text/plain": [
       "array([[0.99252015],\n",
       "       [0.05512094],\n",
       "       [0.03146517],\n",
       "       [0.55441684],\n",
       "       [0.1292524 ],\n",
       "       [0.01606256],\n",
       "       [0.79747677],\n",
       "       [0.6532572 ],\n",
       "       [0.46133825],\n",
       "       [0.46477622]], dtype=float32)"
      ]
     },
     "execution_count": 74,
     "metadata": {},
     "output_type": "execute_result"
    }
   ],
   "source": [
    "# Predicting the Test set results\n",
    "y_pred = classifier.predict(X_test)\n",
    "y_pred[:10]"
   ]
  },
  {
   "cell_type": "code",
   "execution_count": 75,
   "id": "f0b0d7ea",
   "metadata": {},
   "outputs": [
    {
     "data": {
      "text/plain": [
       "array([[ True],\n",
       "       [False],\n",
       "       [False],\n",
       "       [ True],\n",
       "       [False],\n",
       "       [False],\n",
       "       [ True],\n",
       "       [ True],\n",
       "       [False],\n",
       "       [False]])"
      ]
     },
     "execution_count": 75,
     "metadata": {},
     "output_type": "execute_result"
    }
   ],
   "source": [
    "#Converting probabilities into a binary result\n",
    "y_pred = (y_pred > 0.5)\n",
    "y_pred[:10]"
   ]
  },
  {
   "cell_type": "code",
   "execution_count": 76,
   "id": "370f9b71",
   "metadata": {},
   "outputs": [
    {
     "data": {
      "text/plain": [
       "array([[138,  19],\n",
       "       [ 33,  41]], dtype=int64)"
      ]
     },
     "execution_count": 76,
     "metadata": {},
     "output_type": "execute_result"
    }
   ],
   "source": [
    "# Making the Confusion Matrix\n",
    "from sklearn.metrics import confusion_matrix\n",
    "cm = confusion_matrix(y_test, y_pred)\n",
    "cm"
   ]
  },
  {
   "cell_type": "code",
   "execution_count": 77,
   "id": "80352195",
   "metadata": {},
   "outputs": [
    {
     "name": "stdout",
     "output_type": "stream",
     "text": [
      "              precision    recall  f1-score   support\n",
      "\n",
      "           0       0.81      0.88      0.84       157\n",
      "           1       0.68      0.55      0.61        74\n",
      "\n",
      "    accuracy                           0.77       231\n",
      "   macro avg       0.75      0.72      0.73       231\n",
      "weighted avg       0.77      0.77      0.77       231\n",
      "\n"
     ]
    }
   ],
   "source": [
    "from sklearn.metrics import classification_report\n",
    "\n",
    "print(classification_report(y_test, y_pred))"
   ]
  },
  {
   "cell_type": "code",
   "execution_count": null,
   "id": "4b23eb0f",
   "metadata": {},
   "outputs": [],
   "source": [
    "#Accuracy is 77%"
   ]
  }
 ],
 "metadata": {
  "kernelspec": {
   "display_name": "Python 3",
   "language": "python",
   "name": "python3"
  },
  "language_info": {
   "codemirror_mode": {
    "name": "ipython",
    "version": 3
   },
   "file_extension": ".py",
   "mimetype": "text/x-python",
   "name": "python",
   "nbconvert_exporter": "python",
   "pygments_lexer": "ipython3",
   "version": "3.8.8"
  }
 },
 "nbformat": 4,
 "nbformat_minor": 5
}
